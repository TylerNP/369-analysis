{
 "cells": [
  {
   "cell_type": "code",
   "execution_count": 11,
   "metadata": {},
   "outputs": [],
   "source": [
    "import os\n",
    "import csv\n",
    "import time\n",
    "import sys\n",
    "import zipfile\n",
    "import io"
   ]
  },
  {
   "cell_type": "code",
   "execution_count": 12,
   "metadata": {},
   "outputs": [
    {
     "name": "stdout",
     "output_type": "stream",
     "text": [
      "/Users/tylerpham/Documents/GitHub/369-r-place-Analysis/369-analysis/data/archive.zip\n"
     ]
    }
   ],
   "source": [
    "path = f\"{os.path.dirname(os.getcwd())}/data/archive.zip\"\n",
    "print(path)"
   ]
  },
  {
   "cell_type": "code",
   "execution_count": 13,
   "metadata": {},
   "outputs": [
    {
     "name": "stdout",
     "output_type": "stream",
     "text": [
      "['148919893', '10', 'Counter-Strike', '76561199036724879', '0', '3', '197', '197', '197', '1698336369', 'russian', 'старость', '1698336397', '1698336397', '1', '0', '0', '0.0', '0', '1', '0', '0', '1', '']\n",
      "['148919350', '10', 'Counter-Strike', '76561198826729322', '0', '21', '441', '37', '441', '1698335809', 'russian', 'Лучше кс 2', '1698335821', '1698335821', '1', '0', '0', '0.0', '0', '1', '0', '0', '1', '']\n",
      "['148913051', '10', 'Counter-Strike', '76561199101237625', '7', '1', '1440', '1440', '1313', '1698338635', 'turkish', 'çoh iyi ama pahalı', '1698329862', '1698329862', '1', '0', '0', '0.0', '0', '1', '0', '0', '1', '']\n",
      "['148912714', '10', 'Counter-Strike', '76561198347582422', '11', '4', '1636', '83', '1612', '1698341834', 'russian', 'топ', '1698329555', '1698329555', '1', '0', '0', '0.0', '0', '1', '0', '0', '1', '']\n",
      "['148912575', '10', 'Counter-Strike', '76561198363716821', '0', '2', '197', '41', '197', '1698329401', 'english', 'GOAT Game !!', '1698329419', '1698329419', '1', '0', '0', '0.0', '0', '1', '0', '0', '1', '']\n",
      "['148906148', '10', 'Counter-Strike', '76561198198293481', '22', '2', '1685', '70', '1649', '1698323046', 'russian', 'топ', '1698321840', '1698321840', '1', '0', '0', '0.0', '0', '1', '0', '0', '1', '']\n",
      "['148905699', '10', 'Counter-Strike', '76561198820122182', '88', '39', '11', '0', '11', '1695752100', 'turkish', 'eskisi kadar sarmiyor', '1698321259', '1698321259', '1', '0', '0', '0.0', '0', '0', '0', '0', '1', '']\n",
      "['148900627', '10', 'Counter-Strike', '76561198346217916', '0', '2', '45119', '503', '45119', '1698157431', 'russian', 'Идеальная', '1698314419', '1698314419', '1', '0', '0', '0.0', '0', '1', '0', '0', '1', '']\n",
      "['148899121', '10', 'Counter-Strike', '76561199143791757', '9', '4', '1271', '973', '1202', '1698338304', 'russian', 'топ', '1698312060', '1698312060', '1', '0', '0', '0.0', '0', '1', '0', '0', '1', '']\n",
      "['148898785', '10', 'Counter-Strike', '76561198853145449', '491', '60', '721', '0', '721', '1660831719', 'schinese', '史上最优秀的fps游戏，众多国产游戏抄袭的对象，永远无法跨越的经典', '1698311451', '1698311451', '1', '0', '0', '0.0', '0', '1', '0', '0', '1', '']\n",
      "['148895540', '10', 'Counter-Strike', '76561198134752176', '69', '1', '12107', '0', '12107', '1670487891', 'english', 'First crush. Always in my heart.', '1698306096', '1698306096', '1', '0', '0', '0.0', '0', '0', '0', '0', '1', '']\n",
      "['148895230', '10', 'Counter-Strike', '76561197985437504', '0', '5', '42519', '3', '42515', '1698305811', 'english', 'best version of cs ever, history.', '1698305569', '1698305569', '1', '0', '0', '0.0', '0', '0', '0', '0', '1', '']\n",
      "Took 3.596333 ms\n"
     ]
    }
   ],
   "source": [
    "start_time = time.perf_counter_ns()\n",
    "\n",
    "if not os.path.exists(path):\n",
    "    print(\"file not found\")\n",
    "    sys.exit(1)\n",
    "\n",
    "# unzip file for streaming\n",
    "with zipfile.ZipFile(path, \"r\") as z:\n",
    "    zip_path = \"all_reviews/all_reviews.csv\"\n",
    "\n",
    "    # open file \n",
    "    with z.open(zip_path, \"r\") as file:\n",
    "\n",
    "        # decode into utf-8 to read line by line\n",
    "        with io.TextIOWrapper(file, encoding=\"utf-8\") as text_file:\n",
    "            csv_reader = csv.reader(text_file)\n",
    "            headers = next(csv_reader)\n",
    "            header_indices = {header: index for index, header in enumerate(headers)}\n",
    "            #print(header_indices)\n",
    "            for i, row in enumerate(csv_reader):\n",
    "                print(row)\n",
    "                if (i > 10):\n",
    "                    break\n",
    "\n",
    "end_time = time.perf_counter_ns()\n",
    "print(f\"Took {(end_time-start_time)/1000000} ms\")"
   ]
  },
  {
   "cell_type": "markdown",
   "metadata": {},
   "source": [
    "I didn't realize for the longest time that I didn't unzip the file first, so it kept running into encoding errors :|"
   ]
  },
  {
   "cell_type": "code",
   "execution_count": null,
   "metadata": {},
   "outputs": [],
   "source": []
  }
 ],
 "metadata": {
  "kernelspec": {
   "display_name": ".venv",
   "language": "python",
   "name": "python3"
  },
  "language_info": {
   "codemirror_mode": {
    "name": "ipython",
    "version": 3
   },
   "file_extension": ".py",
   "mimetype": "text/x-python",
   "name": "python",
   "nbconvert_exporter": "python",
   "pygments_lexer": "ipython3",
   "version": "3.13.2"
  }
 },
 "nbformat": 4,
 "nbformat_minor": 2
}
