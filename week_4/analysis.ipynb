{
 "cells": [
  {
   "cell_type": "code",
   "execution_count": 4,
   "metadata": {},
   "outputs": [],
   "source": [
    "import duckdb\n",
    "import imageio\n",
    "import numpy as np\n",
    "import shutil\n",
    "from PIL import Image\n",
    "min_date = '2022-04-01 12'\n",
    "\n",
    "color_name = {\n",
    "    16729344: 'red', \n",
    "    0: 'black', \n",
    "    6970623: 'periwinkle', \n",
    "    7143450: 'burgandy', \n",
    "    16775352: 'pale yellow', \n",
    "    2379940: 'dark blue', \n",
    "    8461983: 'dark purple', \n",
    "    16754688: 'orange', \n",
    "    40618: 'teal', \n",
    "    52416: 'light teal', \n",
    "    8318294: 'light green', \n",
    "    12451897: 'dark red', \n",
    "    16757872: 'beige', \n",
    "    9745407: 'lavendar', \n",
    "    16777215: 'white', \n",
    "    11815616: 'purple', \n",
    "    41832: 'dark green', \n",
    "    10250534: 'brown', \n",
    "    14986239: 'pale purple', \n",
    "    16766517: 'yellow', \n",
    "    3576042: 'blue', \n",
    "    16751018: 'light pink', \n",
    "    5368308: 'light blue', \n",
    "    9014672: 'gray', \n",
    "    4799169: 'indigo', \n",
    "    30063: 'dark teal', \n",
    "    13948889: 'light gray', \n",
    "    5329490: 'dark gray', \n",
    "    52344: 'green', \n",
    "    16726145: 'pink', \n",
    "    7161903: 'dark brown', \n",
    "    14553215: 'magenta'\n",
    "}\n",
    "\n",
    "db_path = r\"../data/lossy_2022_place_history.parquet\"\n",
    "db = duckdb.connect(\":memory:\")\n",
    "db.sql(f\"CREATE TABLE data AS SELECT * FROM read_parquet('{db_path}')\")"
   ]
  },
  {
   "cell_type": "code",
   "execution_count": 2,
   "metadata": {},
   "outputs": [],
   "source": [
    "# Utility Functions\n",
    "# Convert a day and hour difference into purely an hour one\n",
    "def min_hour_delta(day : int, hour : int):\n",
    "    min_tokens = min_date.split(' ')\n",
    "    # Get Hour Difference\n",
    "    hour_diff = hour - int(min_tokens[1])\n",
    "    # Get Day Difference\n",
    "    day_hour_diff = 24 * (day - int((min_tokens[0].split('-'))[2]))\n",
    "    hour_delta = hour_diff + day_hour_diff\n",
    "    return hour_delta\n",
    "\n",
    "# Returns rgb values in a list from an integer representation of hex code\n",
    "def int_to_rgb(color_value : int) -> list[int]:\n",
    "    hex_code = f\"{color_value:06x}\" # Convert To Hex\n",
    "    return [ int(hex_code[0:2], 16), int(hex_code[2:4], 16), int(hex_code[4:6], 16)]"
   ]
  },
  {
   "cell_type": "code",
   "execution_count": 32,
   "metadata": {},
   "outputs": [],
   "source": [
    "# Analysis Functions\n",
    "# Draw most used colors around a coordinate up to a specific hour or only during a specific hour\n",
    "def img_most_used_near(x : int, y : int, size : int, hour : int, mode : int):\n",
    "    x_lower_bound = (x-size) if x > size else 0\n",
    "    x_upper_bound = (x+size) if (x-size) < 2000 else 2000\n",
    "    y_lower_bound = (y-size) if y > size else 0\n",
    "    y_upper_bound = (y+size) if (y-size) < 2000 else 2000\n",
    "\n",
    "    # Bias towards brighter colors\n",
    "    condition_str = \"\"\n",
    "    # Mode 0 Shows Current Top Placements -> Bias Towards High Activity \n",
    "    if (mode == 0):\n",
    "        condition_str += f\"WHERE timedelta = {hour} ORDER BY color\"\n",
    "    # Mode 1 Shows Most Recent Top Placements -> Bias Towards Low Activity\n",
    "    elif (mode == 1):\n",
    "        condition_str += f\"WHERE timedelta <= {hour} ORDER BY timedelta, color\"\n",
    "\n",
    "    sql_to_execute = f\"\"\"\n",
    "        WITH mark AS (\n",
    "            SELECT x, y, color, timedelta, COUNT(1) AS amt FROM data\n",
    "            WHERE ((x < {x_upper_bound} AND x >= {x_lower_bound}) \n",
    "            AND (y < {y_upper_bound} AND y >= {y_lower_bound})) \n",
    "            AND (timedelta >= {min} AND timedelta <= {max})\n",
    "            GROUP BY x, y, color, timedelta\n",
    "        ), top_color AS (\n",
    "            SELECT x, y, timedelta, MAX(amt) AS top FROM mark GROUP BY x, y, timedelta\n",
    "        ), agg AS (\n",
    "            SELECT mark.x, mark.y, color, mark.timedelta FROM mark \n",
    "            JOIN top_color ON mark.timedelta = top_color.timedelta \n",
    "            AND mark.amt = top_color.top AND mark.x = top_color.x AND mark.y = top_color.y\n",
    "        )\n",
    "\n",
    "        SELECT color, x, y FROM agg {condition_str}\n",
    "    \"\"\"\n",
    "\n",
    "    coords = db.sql(sql_to_execute).fetchall()\n",
    "\n",
    "    width = x_upper_bound - x_lower_bound\n",
    "    height = y_upper_bound - y_lower_bound\n",
    "    img_set = np.full([height, width, 3], 50, dtype=np.uint8) # fill with dark grey to show black\n",
    "    for coord in coords:\n",
    "        img_set[coord[2]-y_lower_bound][coord[1]-x_lower_bound] = int_to_rgb(coord[0])\n",
    "\n",
    "    img = Image.fromarray(img_set, \"RGB\")\n",
    "    file_name = f\"{x}_{y}_{size}_{hour}_mode_{mode}.png\"\n",
    "    img.save(file_name)\n",
    "    shutil.move(file_name, f\"visualizations/pngs/{file_name}\")\n",
    "    img_set = None\n",
    "    #print(file_name)\n",
    "\n",
    "# Animate image near specific coordinates within a specific time frame\n",
    "def animate_at_(x : int, y : int, size : int, mode : int, min : int, max : int):\n",
    "    for i in range(min, max):\n",
    "        img_most_used_near(x, y, size, i, mode)\n",
    "    img_set = [imageio.imread(f\"visualizations/pngs/{x}_{y}_{size}_{i}_mode_{mode}.png\") for i in range(min, max)]\n",
    "    file_name = f\"{x}_{y}_{size}_animate_{mode}_{min}_{max}.gif\"\n",
    "    imageio.mimsave(file_name, img_set, format=\"GIF\", fps=3)\n",
    "    shutil.move(file_name, f\"visualizations/{file_name}\")\n",
    "\n",
    "# Return top 3 most used colors at a coordinate\n",
    "def top_3_color_at(x : int, y : int, min : int, max : int):\n",
    "    coords = db.sql(f\"\"\"\n",
    "        SELECT color, COUNT(1) AS amount FROM data \n",
    "        WHERE \n",
    "        timedelta >= {min} AND timedelta <= {max}\n",
    "        AND (x = {x} AND y = {y})\n",
    "        GROUP BY color\n",
    "        ORDER BY amount DESC\n",
    "        LIMIT 3\n",
    "    \"\"\").fetchall()\n",
    "\n",
    "    for coord in coords:\n",
    "        print(f\"Coord: ({x}, {y}) {coord[1]} {color_name[int(coord[0])]}\")\n",
    "\n",
    "# Return top 10 most active hours\n",
    "def top_10_activity_at(x : int, y: int):\n",
    "    coords = db.sql(f\"\"\"\n",
    "        WITH activity AS (\n",
    "            SELECT timedelta, COUNT(1) AS act FROM data \n",
    "            WHERE (x = {x} AND y = {y})\n",
    "            GROUP BY timedelta\n",
    "        )\n",
    "\n",
    "        SELECT timedelta, act FROM activity ORDER BY act DESC LIMIT 10\n",
    "    \"\"\").fetchall()\n",
    "\n",
    "    for i, coord in enumerate(coords):\n",
    "        print(f\"{i+1}. {coord}\")\n",
    "\n",
    "# Count Activity At Coordinate\n",
    "def activity_at(x : int, y : int, min : int, max : int):\n",
    "    activity = db.sql(f\"\"\"\n",
    "        SELECT COUNT(1) AS act FROM data WHERE x = {x} AND y = {y} AND timedelta <= {max} AND timedelta >= {min}\n",
    "    \"\"\").fetchone()\n",
    "    print(f\"({x}, {y}). {activity[0]}\")\n"
   ]
  },
  {
   "cell_type": "code",
   "execution_count": 6,
   "metadata": {},
   "outputs": [
    {
     "name": "stdout",
     "output_type": "stream",
     "text": [
      "1. Coord: (0, 0, 98807)\n",
      "2. Coord: (359, 564, 69198)\n",
      "3. Coord: (349, 564, 55230)\n"
     ]
    }
   ],
   "source": [
    "# Find 3 Most Placed Pixels\n",
    "min = min_hour_delta(1, 12)\n",
    "max = min_hour_delta(1, 96)\n",
    "\n",
    "coord = db.sql(f\"SELECT x, y, COUNT(1) AS amt FROM data WHERE timedelta >= {min} AND timedelta <= {max} GROUP BY x, y ORDER BY COUNT(1) DESC LIMIT 3\").fetchall()\n",
    "\n",
    "for i in range(3):\n",
    "    print(f\"{i+1}. Coord: {coord[i]}\")\n"
   ]
  },
  {
   "cell_type": "code",
   "execution_count": 106,
   "metadata": {},
   "outputs": [
    {
     "name": "stdout",
     "output_type": "stream",
     "text": [
      "Coord: (0, 0) 59282 white\n",
      "Coord: (0, 0) 8715 black\n",
      "Coord: (0, 0) 4209 red\n",
      "Coord: (359, 564) 34726 black\n",
      "Coord: (359, 564) 26940 light blue\n",
      "Coord: (359, 564) 1656 red\n",
      "Coord: (349, 564) 27804 black\n",
      "Coord: (349, 564) 19404 light blue\n",
      "Coord: (349, 564) 2120 red\n"
     ]
    }
   ],
   "source": [
    "top_3_color_at(0, 0, min, max)\n",
    "top_3_color_at(359, 564, min, max)\n",
    "top_3_color_at(349, 564, min, max)"
   ]
  },
  {
   "cell_type": "code",
   "execution_count": 176,
   "metadata": {},
   "outputs": [
    {
     "name": "stderr",
     "output_type": "stream",
     "text": [
      "/var/folders/1x/dycpz7w970v75zp6v07k7_zr0000gn/T/ipykernel_75609/2292213344.py:55: DeprecationWarning: Starting with ImageIO v3 the behavior of this function will switch to that of iio.v3.imread. To keep the current behavior (and make this warning disappear) use `import imageio.v2 as imageio` or call `imageio.v2.imread` directly.\n",
      "  img_set = [imageio.imread(f\"visualizations/pngs/{x}_{y}_{size}_{i}_mode_{mode}.png\") for i in range(min, max)]\n"
     ]
    }
   ],
   "source": [
    "# Animated Only Once At (349, 564) Due to Close Proximity Of (359, 564)\n",
    "# One piece skeleton\n",
    "animate_at_(349, 564, 35, 0, min, max)\n",
    "animate_at_(349, 564, 35, 1, min, max)\n"
   ]
  },
  {
   "cell_type": "code",
   "execution_count": 175,
   "metadata": {},
   "outputs": [
    {
     "name": "stderr",
     "output_type": "stream",
     "text": [
      "/var/folders/1x/dycpz7w970v75zp6v07k7_zr0000gn/T/ipykernel_75609/2292213344.py:55: DeprecationWarning: Starting with ImageIO v3 the behavior of this function will switch to that of iio.v3.imread. To keep the current behavior (and make this warning disappear) use `import imageio.v2 as imageio` or call `imageio.v2.imread` directly.\n",
      "  img_set = [imageio.imread(f\"visualizations/pngs/{x}_{y}_{size}_{i}_mode_{mode}.png\") for i in range(min, max)]\n"
     ]
    }
   ],
   "source": [
    "# Corner of Runescape Sign\n",
    "animate_at_(0, 0, 35, 0, min, max)\n",
    "animate_at_(0, 0, 35, 1, min, max)"
   ]
  },
  {
   "cell_type": "code",
   "execution_count": null,
   "metadata": {},
   "outputs": [
    {
     "name": "stderr",
     "output_type": "stream",
     "text": [
      "/var/folders/1x/dycpz7w970v75zp6v07k7_zr0000gn/T/ipykernel_75609/2292213344.py:55: DeprecationWarning: Starting with ImageIO v3 the behavior of this function will switch to that of iio.v3.imread. To keep the current behavior (and make this warning disappear) use `import imageio.v2 as imageio` or call `imageio.v2.imread` directly.\n",
      "  img_set = [imageio.imread(f\"visualizations/pngs/{x}_{y}_{size}_{i}_mode_{mode}.png\") for i in range(min, max)]\n"
     ]
    }
   ],
   "source": [
    "# Animatation of One Piece Skeleton Eyes\n",
    "animate_at_(349, 564, 5, 0, min, max)\n",
    "animate_at_(359, 564, 5, 0, min, max)"
   ]
  },
  {
   "cell_type": "code",
   "execution_count": 208,
   "metadata": {},
   "outputs": [
    {
     "name": "stderr",
     "output_type": "stream",
     "text": [
      "/var/folders/1x/dycpz7w970v75zp6v07k7_zr0000gn/T/ipykernel_75609/4246140971.py:55: DeprecationWarning: Starting with ImageIO v3 the behavior of this function will switch to that of iio.v3.imread. To keep the current behavior (and make this warning disappear) use `import imageio.v2 as imageio` or call `imageio.v2.imread` directly.\n",
      "  img_set = [imageio.imread(f\"visualizations/pngs/{x}_{y}_{size}_{i}_mode_{mode}_1.png\") for i in range(min, max)]\n"
     ]
    }
   ],
   "source": [
    "# Larger Portion of Runescape Please Wait Sign\n",
    "animate_at_(0, 0, 100, 1, min, max)"
   ]
  },
  {
   "cell_type": "code",
   "execution_count": 197,
   "metadata": {},
   "outputs": [
    {
     "name": "stdout",
     "output_type": "stream",
     "text": [
      "1. (84, 15618)\n",
      "2. (83, 12212)\n",
      "3. (79, 1597)\n",
      "4. (80, 1586)\n",
      "5. (78, 1570)\n",
      "6. (82, 1563)\n",
      "7. (77, 1529)\n",
      "8. (56, 1405)\n",
      "9. (81, 1396)\n",
      "10. (75, 1372)\n",
      "1. (54, 1049)\n",
      "2. (53, 1043)\n",
      "3. (31, 1027)\n",
      "4. (32, 1015)\n",
      "5. (34, 986)\n",
      "6. (52, 959)\n",
      "7. (51, 937)\n",
      "8. (33, 933)\n",
      "9. (39, 925)\n",
      "10. (40, 923)\n",
      "1. (53, 1321)\n",
      "2. (54, 1250)\n",
      "3. (32, 1204)\n",
      "4. (34, 1180)\n",
      "5. (33, 1160)\n",
      "6. (31, 1147)\n",
      "7. (38, 1142)\n",
      "8. (52, 1134)\n",
      "9. (39, 1129)\n",
      "10. (35, 1098)\n"
     ]
    }
   ],
   "source": [
    "top_10_activity_at(0, 0)\n",
    "top_10_activity_at(349, 564)\n",
    "top_10_activity_at(359, 564)"
   ]
  },
  {
   "cell_type": "code",
   "execution_count": 8,
   "metadata": {},
   "outputs": [
    {
     "name": "stdout",
     "output_type": "stream",
     "text": [
      "(0, 0). 98807\n",
      "(0, 999). 22358\n",
      "(0, 1999). 22763\n",
      "(999, 0). 8433\n",
      "(1999, 0). 30882\n",
      "(999, 999). 23271\n",
      "(1999, 1999). 31437\n"
     ]
    }
   ],
   "source": [
    "# Top Left Corner\n",
    "activity_at(0, 0, min, max)\n",
    "\n",
    "# Top Right Corners\n",
    "activity_at(0, 999, min, max)\n",
    "activity_at(0, 1999, min, max)\n",
    "\n",
    "# Bottom Left Corners \n",
    "activity_at(999, 0, min, max)\n",
    "activity_at(1999, 0, min, max)\n",
    "\n",
    "# Bottom Right Corners\n",
    "activity_at(999, 999, min, max)\n",
    "activity_at(1999, 1999, min, max)"
   ]
  },
  {
   "cell_type": "code",
   "execution_count": 12,
   "metadata": {},
   "outputs": [
    {
     "name": "stdout",
     "output_type": "stream",
     "text": [
      "1. (83, 2964)\n",
      "2. (84, 2378)\n",
      "3. (55, 1141)\n",
      "4. (81, 1036)\n",
      "5. (82, 969)\n",
      "6. (80, 891)\n",
      "7. (78, 889)\n",
      "8. (77, 853)\n",
      "9. (79, 821)\n",
      "10. (76, 752)\n",
      "1. (84, 3455)\n",
      "2. (83, 2426)\n",
      "3. (55, 1329)\n",
      "4. (78, 1319)\n",
      "5. (80, 1310)\n",
      "6. (81, 1307)\n",
      "7. (79, 1301)\n",
      "8. (77, 1215)\n",
      "9. (76, 1135)\n",
      "10. (75, 1123)\n",
      "1. (84, 2217)\n",
      "2. (83, 1547)\n",
      "3. (80, 948)\n",
      "4. (79, 919)\n",
      "5. (78, 905)\n",
      "6. (77, 843)\n",
      "7. (74, 836)\n",
      "8. (81, 833)\n",
      "9. (58, 721)\n",
      "10. (82, 699)\n"
     ]
    }
   ],
   "source": [
    "top_10_activity_at(0, 1999)\n",
    "top_10_activity_at(1999, 1999)\n",
    "top_10_activity_at(1999, 0)"
   ]
  },
  {
   "cell_type": "code",
   "execution_count": null,
   "metadata": {},
   "outputs": [],
   "source": []
  }
 ],
 "metadata": {
  "kernelspec": {
   "display_name": ".venv",
   "language": "python",
   "name": "python3"
  },
  "language_info": {
   "codemirror_mode": {
    "name": "ipython",
    "version": 3
   },
   "file_extension": ".py",
   "mimetype": "text/x-python",
   "name": "python",
   "nbconvert_exporter": "python",
   "pygments_lexer": "ipython3",
   "version": "3.12.6"
  }
 },
 "nbformat": 4,
 "nbformat_minor": 2
}
